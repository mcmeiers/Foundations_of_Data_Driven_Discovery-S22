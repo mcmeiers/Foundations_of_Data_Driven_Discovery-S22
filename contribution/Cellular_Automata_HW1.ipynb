{
 "cells": [
  {
   "cell_type": "code",
   "execution_count": 15,
   "metadata": {},
   "outputs": [],
   "source": [
    "import random\n",
    "from matplotlib import pyplot as plt\n",
    "%matplotlib inline"
   ]
  },
  {
   "cell_type": "markdown",
   "metadata": {},
   "source": [
    "# Cellular Automata without functions and classes"
   ]
  },
  {
   "cell_type": "code",
   "execution_count": 16,
   "metadata": {},
   "outputs": [
    {
     "data": {
      "image/png": "[encoded data removed]",
      "text/plain": [
       "<Figure size 864x864 with 1 Axes>"
      ]
     },
     "metadata": {
      "needs_background": "light"
     },
     "output_type": "display_data"
    }
   ],
   "source": [
    "rule_number = 110\n",
    "length = 100\n",
    "time = 100\n",
    "\n",
    "# make the initial condition\n",
    "initial_condition = []\n",
    "for i in range(length):\n",
    "    initial_condition.append(random.randint(0,2))\n",
    "\n",
    "# create list of neighborhood tuples in lex. order\n",
    "neighborhoods = [(0,0), (0,1), (0,2), (1,0), (1,1), (1,2), (2,0), (2,1), (2,2)][::-1]\n",
    "\n",
    "# convert the rule number to tri-nary and padd with 0s as needed\n",
    "binary_base = tuple([3**(ind) for ind in range(len(neighborhoods))][::-1])\n",
    "in_binary = []\n",
    "input_rule = rule_number\n",
    "if input_rule > 3**9-1:\n",
    "    raise AssertionError('Input rule_number=%i, but the Rule Number should be within the range [0, 19682].'%input_rule)\n",
    "for ind in binary_base:\n",
    "    in_binary.append(input_rule//ind)\n",
    "    input_rule = input_rule%ind\n",
    "in_binary = tuple(in_binary)\n",
    "\n",
    "# create the lookup table dictionary\n",
    "lookup_table = {}\n",
    "for i in range(9):\n",
    "    key = neighborhoods[i]\n",
    "    val = in_binary[i]\n",
    "    lookup_table.update({key:val})\n",
    "    \n",
    "# initialize spacetime field and current configuration\n",
    "spacetime_field = [initial_condition]\n",
    "current_configuration = initial_condition.copy()\n",
    "\n",
    "# apply the lookup table to evolve the CA for the given number of time steps\n",
    "for t in range(time):\n",
    "    new_configuration = []\n",
    "    for i in range(len(current_configuration)):\n",
    "        \n",
    "        neighborhood = (current_configuration[(i-1)], \n",
    "                        current_configuration[i]) \n",
    "        \n",
    "        new_configuration.append(int(lookup_table[neighborhood]))\n",
    "        \n",
    "    current_configuration = new_configuration\n",
    "    spacetime_field.append(new_configuration)\n",
    "    \n",
    "# plot the spacetime field diagram\n",
    "plt.figure(figsize=(12,12))\n",
    "plt.imshow(spacetime_field, cmap=plt.cm.Greys, interpolation='nearest')\n",
    "plt.show()"
   ]
  },
  {
   "cell_type": "markdown",
   "metadata": {},
   "source": [
    "# Cellular Automata using functions and classes"
   ]
  },
  {
   "cell_type": "code",
   "execution_count": 17,
   "metadata": {},
   "outputs": [],
   "source": [
    "def random_string(length):\n",
    "    '''\n",
    "    Returns a random bit string of the given length. \n",
    "    \n",
    "    Parameters\n",
    "    ----------\n",
    "    length: int\n",
    "        Posivite integer that specifies the desired length of the bit string.\n",
    "        \n",
    "    Returns\n",
    "    -------\n",
    "    out: list\n",
    "        The random bit string given as a list, with int elements.\n",
    "    '''\n",
    "    if not isinstance(length, int) or length < 0:\n",
    "        raise ValueError(\"input length must be a positive ingeter\")\n",
    "    return [random.randint(0,2) for _ in range(length)]\n",
    "\n",
    "def get_lookup_table(rule_number):\n",
    "    '''\n",
    "    Returns the look-up table of the neighborhoods in dictionary\n",
    "\n",
    "    Parameters\n",
    "    ----------\n",
    "    rule_number: int\n",
    "        Integer between [0, 19682]\n",
    "    \n",
    "    Returns:\n",
    "    out: list\n",
    "        The rule of a given cell above and its left neighbor\n",
    "    '''\n",
    "\n",
    "    if not isinstance(rule_number, int) or rule_number>=3**9 or rule_number<0:\n",
    "        raise ValueError(\"Input rule_number=%i, but it must be an integer between [0, 19682].\"%rule_number)\n",
    "    \n",
    "    neighborhoods = [(0,0), (0,1), (0,2), (1,0), (1,1), (1,2), (2,0), (2,1), (2,2)][::-1]\n",
    "\n",
    "    binary_base = [3**(ind) for ind in range(len(neighborhoods))][::-1]\n",
    "\n",
    "    in_binary = []\n",
    "    for ind in binary_base:\n",
    "        in_binary.append(rule_number//ind)\n",
    "        rule_number = rule_number%ind\n",
    "    \n",
    "    return dict(zip(neighborhoods, map(int, in_binary)))"
   ]
  },
  {
   "cell_type": "code",
   "execution_count": 18,
   "metadata": {},
   "outputs": [],
   "source": [
    "class eca(object):\n",
    "    '''\n",
    "    Elementry cellular automata simulator with each pixel of [0,1,2]\n",
    "    '''\n",
    "    def __init__(self, rule_number, initial_condition):\n",
    "        '''\n",
    "        Initialize the simulator\n",
    "\n",
    "        Parameters\n",
    "        ----------\n",
    "        rule_number: int\n",
    "            Index of the rule number\n",
    "        initial_conditions: list\n",
    "            list with each entry of [0,1,2]\n",
    "        \n",
    "        Attributes\n",
    "        ----------\n",
    "        lookup_table: dict\n",
    "            define the rules of CA\n",
    "        initial: 1D array\n",
    "            initial condition\n",
    "        spacetime: 2D array\n",
    "            2D array of the spacetime field created from the simulator\n",
    "        current_configuration: 1D array\n",
    "            the spatial configuration at current time\n",
    "        '''\n",
    "        for i in initial_condition:\n",
    "            if i not in [0,1,2]:\n",
    "                raise ValueError(\"Entries in the initial condition must be within [0,1,2].\")\n",
    "        \n",
    "        self.lookup_table = get_lookup_table(rule_number)\n",
    "        self.initial = initial_condition\n",
    "        self.spacetime = [initial_condition]\n",
    "        self.current_configuration = initial_condition.copy()\n",
    "        self._length = len(initial_condition)\n",
    "    \n",
    "    def evolve(self, times):\n",
    "        '''\n",
    "        Evolve the current configuration with given time steps\n",
    "\n",
    "        Parameters\n",
    "        ----------\n",
    "        times: int\n",
    "            number of steps to evolve\n",
    "        '''\n",
    "\n",
    "        if times<0:\n",
    "            raise ValueError(\"times must be non-negative integers.\")\n",
    "        \n",
    "        for _ in range(times):\n",
    "            new_configuration = []\n",
    "            for i in range(self._length):\n",
    "        \n",
    "                neighborhood = (self.current_configuration[(i-1)], \n",
    "                                self.current_configuration[i]) \n",
    "        \n",
    "                new_configuration.append(int(self.lookup_table[neighborhood]))\n",
    "        \n",
    "            self.current_configuration = new_configuration\n",
    "            self.spacetime.append(new_configuration)\n",
    "        "
   ]
  },
  {
   "cell_type": "code",
   "execution_count": 19,
   "metadata": {},
   "outputs": [],
   "source": [
    "def plot_spacetime(spacetime, fig_size=(12,12), c_map = plt.cm.Greys, start_time=0, end_time=None):\n",
    "    '''\n",
    "    Plot the simulated spacetime field\n",
    "\n",
    "    Parameters\n",
    "    ----------\n",
    "    spacetime: 2D array\n",
    "        spacetime field\n",
    "    fig_size: tuple\n",
    "        the size of the figure\n",
    "    c_map: \n",
    "        color scheme of the plot\n",
    "    start_time:\n",
    "        starting time step for plot\n",
    "        Default: initial time step\n",
    "    end_time:\n",
    "        end time step for plot\n",
    "        Default: the last time step in the simulator\n",
    "    '''\n",
    "    plt.figure(figsize=fig_size)\n",
    "    plt.imshow(spacetime[start_time:end_time], cmap = c_map, interpolation='nearest')\n",
    "    plt.show()"
   ]
  },
  {
   "cell_type": "code",
   "execution_count": 20,
   "metadata": {},
   "outputs": [
    {
     "data": {
      "image/png": "[encoded data removed]",
      "text/plain": [
       "<Figure size 864x864 with 1 Axes>"
      ]
     },
     "metadata": {
      "needs_background": "light"
     },
     "output_type": "display_data"
    }
   ],
   "source": [
    "#test the codes using the same initial_condition as the codes wihtout functions and classes\n",
    "\n",
    "rule_110 = eca(110, initial_condition)\n",
    "rule_110.evolve(100)\n",
    "plot_spacetime(rule_110.spacetime)"
   ]
  },
  {
   "cell_type": "code",
   "execution_count": 83,
   "metadata": {},
   "outputs": [
    {
     "data": {
      "image/png": "[encoded data removed]",
      "text/plain": [
       "<Figure size 864x864 with 1 Axes>"
      ]
     },
     "metadata": {
      "needs_background": "light"
     },
     "output_type": "display_data"
    }
   ],
   "source": [
    "# Run with a new initial condition\n",
    "rule_2510 = eca(2510, random_string(100))\n",
    "rule_2510.evolve(100)\n",
    "plot_spacetime(rule_2510.spacetime)"
   ]
  },
  {
   "cell_type": "code",
   "execution_count": 14,
   "metadata": {},
   "outputs": [
    {
     "data": {
      "text/plain": [
       "[[5, 6, 7, 8], [9, 10, 11, 12]]"
      ]
     },
     "execution_count": 14,
     "metadata": {},
     "output_type": "execute_result"
    }
   ],
   "source": [
    "x = [[1,2,3,4],[5,6,7,8],[9,10,11,12]]\n",
    "x[1:None]"
   ]
  },
  {
   "cell_type": "code",
   "execution_count": null,
   "metadata": {},
   "outputs": [],
   "source": []
  }
 ],
 "metadata": {
  "interpreter": {
   "hash": "646aca7bb20bcbf7b8ac9246debc40887ead78a5e72262d2f1012ffdc625cbb8"
  },
  "kernelspec": {
   "display_name": "Python 3.7.6 ('base')",
   "language": "python",
   "name": "python3"
  },
  "language_info": {
   "codemirror_mode": {
    "name": "ipython",
    "version": 3
   },
   "file_extension": ".py",
   "mimetype": "text/x-python",
   "name": "python",
   "nbconvert_exporter": "python",
   "pygments_lexer": "ipython3",
   "version": "3.7.6"
  },
  "orig_nbformat": 4
 },
 "nbformat": 4,
 "nbformat_minor": 2
}
